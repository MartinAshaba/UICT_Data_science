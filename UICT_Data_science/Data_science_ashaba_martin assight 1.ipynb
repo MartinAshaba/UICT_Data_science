{
 "cells": [
  {
   "cell_type": "markdown",
   "id": "d349205c",
   "metadata": {},
   "source": [
    "<b>Python Language Basics</b>"
   ]
  },
  {
   "cell_type": "markdown",
   "id": "96633883",
   "metadata": {},
   "source": [
    "<b><I>TASK 1 </I></b>"
   ]
  },
  {
   "cell_type": "markdown",
   "id": "de8b1dd9",
   "metadata": {},
   "source": [
    "<b>Assignment 1 </b>\n",
    "1. Write a program that prompts a user to enter the radius of a circle, calculates the area and circumference, and then prints both results in a user-friendly format."
   ]
  },
  {
   "cell_type": "code",
   "execution_count": 18,
   "id": "37727111",
   "metadata": {},
   "outputs": [
    {
     "name": "stdout",
     "output_type": "stream",
     "text": [
      "The area of the circle whose radius is  4.0 meters is 50.24 Squaremeters\n",
      "The circumference of the circle whose radius is  4.0 meters is 25.12 meters\n"
     ]
    }
   ],
   "source": [
    "# This script calculates the area and circumference of a circle given its radius.\n",
    "radius =  float(input(\"Enter the radius of the circle:\"))\n",
    "area = 3.14* radius ** 2   #  or 3.14 * radius * radius\n",
    "circumference =  2 * 3.14 * radius\n",
    "print(f\"The area of the circle whose radius is  {radius} meters is {area} Squaremeters\")\n",
    "print(f\"The circumference of the circle whose radius is  {radius} meters is {circumference} meters\")\n"
   ]
  },
  {
   "cell_type": "markdown",
   "id": "568c3ecc",
   "metadata": {},
   "source": [
    "<b>Assignment 2</b>\n",
    "1. Create a program that asks a user for their first name and last name. Then, create a new variable called full_name by combining the first and last names in uppercase with a space in between. Finally, print a message that says: \"Hello, [Full Name]! Your name has [Number] characters.\""
   ]
  },
  {
   "cell_type": "code",
   "execution_count": 19,
   "id": "bfa4a87c",
   "metadata": {},
   "outputs": [
    {
     "name": "stdout",
     "output_type": "stream",
     "text": [
      "Hello, ASHABA MARTIN! your name has 13 characters\n"
     ]
    }
   ],
   "source": [
    "#This script takes a user's first and last name, combines them, converts to uppercase, and counts the characters.\n",
    "first_name = input('Enter your first name2')\n",
    "last_name = input('Enter yourb last name')\n",
    "\n",
    "#Full_name = first_name.upper() + ' ' + last_name.upper()\n",
    "Full_name = (first_name + ' ' + last_name).upper()\n",
    "Number = len(Full_name)\n",
    "#print(f\"Hello, {Full_name}! your name has {len(Full_name)} characters\")\n",
    "print(f\"Hello, {Full_name}! your name has {Number} characters\")"
   ]
  },
  {
   "cell_type": "markdown",
   "id": "e8c3f95e",
   "metadata": {},
   "source": [
    "<b>Assignment 3</b>\n",
    "1. Create a program that asks a user for their name and age. Then, calculate the year they were born and print a message like: \"Hi [Name], you are [Age] years old, so you were born in [Year].\""
   ]
  },
  {
   "cell_type": "code",
   "execution_count": 20,
   "id": "eee4fe7c",
   "metadata": {},
   "outputs": [
    {
     "name": "stdout",
     "output_type": "stream",
     "text": [
      "Hi ASHABA MARTIN you are 33 years old , so you were born in 1992\n"
     ]
    }
   ],
   "source": [
    "user_Name = input('Enter your name')\n",
    "user_Age = int(input('Enter your age'))\n",
    "birth_Year = 2025  - user_Age\n",
    "print(f\"Hi {user_Name} you are {user_Age} years old , so you were born in {birth_Year}\")"
   ]
  },
  {
   "cell_type": "markdown",
   "id": "499fbf76",
   "metadata": {},
   "source": [
    "<b><I>TASK 2 </I> </b>"
   ]
  },
  {
   "cell_type": "markdown",
   "id": "6350c27c",
   "metadata": {},
   "source": [
    "<b>Assignment 1</b>\n",
    "1. Create a list of your top 5 favorite movies. Then, replace the movie at index 2 with a new one. Finally, sort the list in alphabetical order and print the result.\n",
    "2. Given a list of numbers, [5, 15, 25, 35, 45], insert the number 20 at the correct position to maintain the sorted order. Then, remove the last item and print the modified list."
   ]
  },
  {
   "cell_type": "markdown",
   "id": "3a03ccfd",
   "metadata": {},
   "source": [
    "Favorite Movies_List answers"
   ]
  },
  {
   "cell_type": "code",
   "execution_count": 21,
   "id": "3d0cc705",
   "metadata": {},
   "outputs": [
    {
     "name": "stdout",
     "output_type": "stream",
     "text": [
      "Sorted favorite movies: ['Avatar', 'Inception', 'Shutter Island', 'The Dark Knight', 'The Matrix']\n"
     ]
    }
   ],
   "source": [
    "# Step 1: Create the list\n",
    "movies = [\"Inception\", \"The Dark Knight\", \"Interstellar\", \"The Matrix\", \"Avatar\"]\n",
    "\n",
    "# Step 2: Replace movie at index 2\n",
    "movies[2] = \"Shutter Island\"\n",
    "\n",
    "# Step 3: Sort alphabetically\n",
    "movies.sort()\n",
    "\n",
    "# Step 4: Print the result\n",
    "print(\"Sorted favorite movies:\", movies)\n"
   ]
  },
  {
   "cell_type": "code",
   "execution_count": 22,
   "id": "00d801ac",
   "metadata": {},
   "outputs": [
    {
     "name": "stdout",
     "output_type": "stream",
     "text": [
      "Modified numbers list: [5, 15, 20, 25, 35]\n"
     ]
    }
   ],
   "source": [
    "# Given list\n",
    "numbers = [5, 15, 25, 35, 45]\n",
    "\n",
    "# Step 1: Insert 20 in correct sorted position\n",
    "numbers.insert(2, 20)  # After 15, before 25\n",
    "\n",
    "# Step 2: Remove last item\n",
    "numbers.pop()\n",
    "\n",
    "# Step 3: Print the modified list\n",
    "print(\"Modified numbers list:\", numbers)\n"
   ]
  },
  {
   "cell_type": "markdown",
   "id": "6334d90f",
   "metadata": {},
   "source": [
    "<b>Assignment 2</b>\n",
    "1. You have a tuple ('pen', 'pencil', 'eraser'). Your friend wants to borrow the 'pencil' and you want to add a 'ruler' to your collection. Since tuples are immutable, how can you achieve this by creating a new tuple?\n",
    "\n",
    "2. You are given a tuple of student scores: (85, 92, 78, 85, 90, 85). First, find out how many times the score 85 appears. Then, find the index of the first occurrence of the score 92."
   ]
  },
  {
   "cell_type": "code",
   "execution_count": 23,
   "id": "788d8910",
   "metadata": {},
   "outputs": [
    {
     "name": "stdout",
     "output_type": "stream",
     "text": [
      "Updated tuple: ('pen', 'eraser', 'ruler')\n"
     ]
    }
   ],
   "source": [
    "# Original tuple\n",
    "items = ('pen', 'pencil', 'eraser')\n",
    "\n",
    "# Friend borrows the pencil (remove it) and you add a ruler\n",
    "# Convert tuple to list, modify, then convert back to tuple\n",
    "items_list = list(items)\n",
    "items_list.remove('pencil')\n",
    "items_list.append('ruler')\n",
    "new_items = tuple(items_list)\n",
    "\n",
    "print(\"Updated tuple:\", new_items)\n"
   ]
  },
  {
   "cell_type": "code",
   "execution_count": 24,
   "id": "0ca118d2",
   "metadata": {},
   "outputs": [
    {
     "name": "stdout",
     "output_type": "stream",
     "text": [
      "Number of times 85 appears: 3\n",
      "Index of first occurrence of 92: 1\n"
     ]
    }
   ],
   "source": [
    "# Tuple of student scores\n",
    "scores = (85, 92, 78, 85, 90, 85)\n",
    "\n",
    "# Count how many times 85 appears\n",
    "count_85 = scores.count(85)\n",
    "\n",
    "# Find index of first occurrence of 92\n",
    "index_92 = scores.index(92)\n",
    "\n",
    "print(\"Number of times 85 appears:\", count_85)\n",
    "print(\"Index of first occurrence of 92:\", index_92)\n"
   ]
  },
  {
   "cell_type": "markdown",
   "id": "52a08385",
   "metadata": {},
   "source": [
    "<b>Assignment 3</b>\n",
    "1. Create a set of your favorite hobbies. Add a new hobby to the set. Then, create another set with a friend's hobbies. Find the hobbies that you both have in common and the hobbies that are unique to each of you.\n",
    "\n",
    "2. You have a set of numbers A = {1, 2, 3, 4, 5} and another set B = {4, 5, 6, 7, 8}. Find the union of both sets (all unique numbers from both sets) and the difference between set A and set B (numbers present in A but not in B)."
   ]
  },
  {
   "cell_type": "code",
   "execution_count": 25,
   "id": "10c28a7d",
   "metadata": {},
   "outputs": [
    {
     "name": "stdout",
     "output_type": "stream",
     "text": [
      "My hobbies: {'reading', 'photography', 'traveling', 'coding'}\n",
      "Friend's hobbies: {'cooking', 'gaming', 'photography', 'traveling'}\n",
      "Hobbies in common: {'photography', 'traveling'}\n",
      "Unique hobbies: {'coding', 'cooking', 'reading', 'gaming'}\n"
     ]
    }
   ],
   "source": [
    "# Your favorite hobbies\n",
    "my_hobbies = {\"reading\", \"coding\", \"traveling\"}\n",
    "\n",
    "# Add a new hobby\n",
    "my_hobbies.add(\"photography\")\n",
    "\n",
    "# Friend's hobbies\n",
    "friend_hobbies = {\"cooking\", \"traveling\", \"photography\", \"gaming\"}\n",
    "\n",
    "# Hobbies in common\n",
    "common_hobbies = my_hobbies.intersection(friend_hobbies)\n",
    "\n",
    "# Hobbies unique to each of you\n",
    "unique_hobbies = my_hobbies.symmetric_difference(friend_hobbies)\n",
    "\n",
    "print(\"My hobbies:\", my_hobbies)\n",
    "print(\"Friend's hobbies:\", friend_hobbies)\n",
    "print(\"Hobbies in common:\", common_hobbies)\n",
    "print(\"Unique hobbies:\", unique_hobbies)\n"
   ]
  },
  {
   "cell_type": "code",
   "execution_count": 26,
   "id": "315c3b26",
   "metadata": {},
   "outputs": [
    {
     "name": "stdout",
     "output_type": "stream",
     "text": [
      "Union of A and B: {1, 2, 3, 4, 5, 6, 7, 8}\n",
      "Difference (A - B): {1, 2, 3}\n"
     ]
    }
   ],
   "source": [
    "# Given sets\n",
    "A = {1, 2, 3, 4, 5}\n",
    "B = {4, 5, 6, 7, 8}\n",
    "\n",
    "# Union of both sets\n",
    "union_set = A.union(B)\n",
    "\n",
    "# Difference between A and B\n",
    "difference_set = A.difference(B)\n",
    "\n",
    "print(\"Union of A and B:\", union_set)\n",
    "print(\"Difference (A - B):\", difference_set)\n"
   ]
  },
  {
   "cell_type": "markdown",
   "id": "5d44c101",
   "metadata": {},
   "source": [
    "<b><I>TASK 3 </I> </b>"
   ]
  },
  {
   "cell_type": "markdown",
   "id": "1cc2d874",
   "metadata": {},
   "source": [
    "<b>Assignments 1</b>\n",
    "1. Write a program that asks the user for their age and then prints whether they are a minor (under 18), an adult (18-64), or a senior (65+).\n",
    "2. Create a program that takes a number as input and prints whether it's positive, negative, or zero."
   ]
  },
  {
   "cell_type": "code",
   "execution_count": 27,
   "id": "79a596ff",
   "metadata": {},
   "outputs": [
    {
     "name": "stdout",
     "output_type": "stream",
     "text": [
      "You are an adult.\n"
     ]
    }
   ],
   "source": [
    "# Ask the user for their age\n",
    "age = int(input(\"Enter your age: \"))\n",
    "\n",
    "# Classify based on age\n",
    "if age < 18:\n",
    "    print(\"You are a minor.\")\n",
    "elif 18 <= age <= 64:\n",
    "    print(\"You are an adult.\")\n",
    "else:\n",
    "    print(\"You are a senior.\")\n"
   ]
  },
  {
   "cell_type": "code",
   "execution_count": 28,
   "id": "e91453fa",
   "metadata": {},
   "outputs": [
    {
     "name": "stdout",
     "output_type": "stream",
     "text": [
      "The number is positive.\n"
     ]
    }
   ],
   "source": [
    "# Ask the user for a number\n",
    "number = float(input(\"Enter a number: \"))\n",
    "\n",
    "# Check if it's positive, negative, or zero\n",
    "if number > 0:\n",
    "    print(\"The number is positive.\")\n",
    "elif number < 0:\n",
    "    print(\"The number is negative.\")\n",
    "else:\n",
    "    print(\"The number is zero.\")\n"
   ]
  },
  {
   "cell_type": "markdown",
   "id": "be352e6d",
   "metadata": {},
   "source": [
    "<b>Assignment 2</b>\n",
    "1. Write a program that asks the user to guess a number between 1 and 10. The program should keep asking for a number until the user guesses the correct number (e.g., 7).\n",
    "2. Create a program that prints the numbers from 10 down to 1."
   ]
  },
  {
   "cell_type": "code",
   "execution_count": 29,
   "id": "3bfc2ff9",
   "metadata": {},
   "outputs": [
    {
     "name": "stdout",
     "output_type": "stream",
     "text": [
      "Correct! You guessed the number\n"
     ]
    }
   ],
   "source": [
    "# Number to guess\n",
    "correct_number = 7\n",
    "\n",
    "while True:\n",
    "    guess = int(input(\"Guess a number between 1 and 10: \"))\n",
    "    if guess == correct_number:\n",
    "        print(\"Correct! You guessed the number\")\n",
    "        break\n",
    "    else:\n",
    "        print(\" Wrong guess, try again.\")\n"
   ]
  },
  {
   "cell_type": "code",
   "execution_count": 30,
   "id": "f44702bf",
   "metadata": {},
   "outputs": [
    {
     "name": "stdout",
     "output_type": "stream",
     "text": [
      "10\n",
      "9\n",
      "8\n",
      "7\n",
      "6\n",
      "5\n",
      "4\n",
      "3\n",
      "2\n",
      "1\n"
     ]
    }
   ],
   "source": [
    "for number in range(10, 1 - 1, -1):\n",
    "    print(number)\n"
   ]
  },
  {
   "cell_type": "markdown",
   "id": "ef803954",
   "metadata": {},
   "source": [
    "<b>Assignment 3 </b>\n",
    "1. Write a program that prints the square of each number from 1 to 10.\n",
    "2. Create a program that finds the sum of all the even numbers between 1 and 100."
   ]
  },
  {
   "cell_type": "markdown",
   "id": "823ff2d2",
   "metadata": {},
   "source": [
    "ANSWERS"
   ]
  },
  {
   "cell_type": "code",
   "execution_count": 31,
   "id": "ba8c45a4",
   "metadata": {},
   "outputs": [
    {
     "name": "stdout",
     "output_type": "stream",
     "text": [
      "The square of 1 is 1\n",
      "The square of 2 is 4\n",
      "The square of 3 is 9\n",
      "The square of 4 is 16\n",
      "The square of 5 is 25\n",
      "The square of 6 is 36\n",
      "The square of 7 is 49\n",
      "The square of 8 is 64\n",
      "The square of 9 is 81\n",
      "The square of 10 is 100\n"
     ]
    }
   ],
   "source": [
    "for num in range(1, 11):\n",
    "    square = num ** 2\n",
    "    print(f\"The square of {num} is {square}\")\n"
   ]
  },
  {
   "cell_type": "code",
   "execution_count": 32,
   "id": "c7eba4b2",
   "metadata": {},
   "outputs": [
    {
     "name": "stdout",
     "output_type": "stream",
     "text": [
      "The sum of all even numbers between 1 and 100 is 2550\n"
     ]
    }
   ],
   "source": [
    "total = 0\n",
    "for num in range(2, 101, 2):  # start at 2, go up to 100, step by 2 to get evens only\n",
    "    total += num\n",
    "\n",
    "print(f\"The sum of all even numbers between 1 and 100 is {total}\")\n"
   ]
  }
 ],
 "metadata": {
  "kernelspec": {
   "display_name": "Python 3",
   "language": "python",
   "name": "python3"
  },
  "language_info": {
   "codemirror_mode": {
    "name": "ipython",
    "version": 3
   },
   "file_extension": ".py",
   "mimetype": "text/x-python",
   "name": "python",
   "nbconvert_exporter": "python",
   "pygments_lexer": "ipython3",
   "version": "3.11.2"
  }
 },
 "nbformat": 4,
 "nbformat_minor": 5
}
