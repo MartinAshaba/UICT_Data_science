{
 "cells": [
  {
   "cell_type": "markdown",
   "id": "d349205c",
   "metadata": {},
   "source": [
    "<b>Python Language Basics</b>"
   ]
  },
  {
   "cell_type": "markdown",
   "id": "96633883",
   "metadata": {},
   "source": [
    "<I>TASK 1 </I>"
   ]
  },
  {
   "cell_type": "markdown",
   "id": "de8b1dd9",
   "metadata": {},
   "source": [
    "<b>Assignment 1 </b>\n",
    "1. Write a program that prompts a user to enter the radius of a circle, calculates the area and circumference, and then prints both results in a user-friendly format."
   ]
  },
  {
   "cell_type": "code",
   "execution_count": 1,
   "id": "37727111",
   "metadata": {},
   "outputs": [
    {
     "name": "stdout",
     "output_type": "stream",
     "text": [
      "The area of the circle whose radius is  6.0 meters is 113.04 Squaremeters\n",
      "The circumference of the circle whose radius is  6.0 meters is 37.68 meters\n"
     ]
    }
   ],
   "source": [
    "# This script calculates the area and circumference of a circle given its radius.\n",
    "radius =  float(input(\"Enter the radius of the circle:\"))\n",
    "area = 3.14* radius ** 2   #  or 3.14 * radius * radius\n",
    "circumference =  2 * 3.14 * radius\n",
    "print(f\"The area of the circle whose radius is  {radius} meters is {area} Squaremeters\")\n",
    "print(f\"The circumference of the circle whose radius is  {radius} meters is {circumference} meters\")\n"
   ]
  },
  {
   "cell_type": "markdown",
   "id": "568c3ecc",
   "metadata": {},
   "source": [
    "<b>Assignment 2</b>\n",
    "1. Create a program that asks a user for their first name and last name. Then, create a new variable called full_name by combining the first and last names in uppercase with a space in between. Finally, print a message that says: \"Hello, [Full Name]! Your name has [Number] characters.\""
   ]
  },
  {
   "cell_type": "code",
   "execution_count": 2,
   "id": "bfa4a87c",
   "metadata": {},
   "outputs": [
    {
     "name": "stdout",
     "output_type": "stream",
     "text": [
      "Hello, AS DSK! your name has 6 characters\n"
     ]
    }
   ],
   "source": [
    "#This script takes a user's first and last name, combines them, converts to uppercase, and counts the characters.\n",
    "first_name = input('Enter your first name')\n",
    "last_name = input('Enter yourb last name')\n",
    "\n",
    "#Full_name = first_name.upper() + ' ' + last_name.upper()\n",
    "Full_name = (first_name + ' ' + last_name).upper()\n",
    "Number = len(Full_name)\n",
    "#print(f\"Hello, {Full_name}! your name has {len(Full_name)} characters\")\n",
    "print(f\"Hello, {Full_name}! your name has {Number} characters\")"
   ]
  },
  {
   "cell_type": "markdown",
   "id": "e8c3f95e",
   "metadata": {},
   "source": [
    "<b>Assignment 3</b>\n",
    "1. Create a program that asks a user for their name and age. Then, calculate the year they were born and print a message like: \"Hi [Name], you are [Age] years old, so you were born in [Year].\""
   ]
  },
  {
   "cell_type": "code",
   "execution_count": 3,
   "id": "eee4fe7c",
   "metadata": {},
   "outputs": [
    {
     "name": "stdout",
     "output_type": "stream",
     "text": [
      "Hi ashaba martn you are 67 years old , so you were born in 1958\n"
     ]
    }
   ],
   "source": [
    "user_Name = input('Enter your name')\n",
    "user_Age = int(input('Enter your age'))\n",
    "birth_Year = 2025  - user_Age\n",
    "print(f\"Hi {user_Name} you are {user_Age} years old , so you were born in {birth_Year}\")"
   ]
  },
  {
   "cell_type": "markdown",
   "id": "499fbf76",
   "metadata": {},
   "source": [
    "<I>TASK 2 </I>"
   ]
  },
  {
   "cell_type": "markdown",
   "id": "6350c27c",
   "metadata": {},
   "source": [
    "<b>Assignment 1</b>\n",
    "1. Create a list of your top 5 favorite movies. Then, replace the movie at index 2 with a new one. Finally, sort the list in alphabetical order and print the result.\n",
    "2. Given a list of numbers, [5, 15, 25, 35, 45], insert the number 20 at the correct position to maintain the sorted order. Then, remove the last item and print the modified list."
   ]
  },
  {
   "cell_type": "markdown",
   "id": "3a03ccfd",
   "metadata": {},
   "source": [
    "Favorite Movies_List answers"
   ]
  },
  {
   "cell_type": "code",
   "execution_count": 4,
   "id": "3d0cc705",
   "metadata": {},
   "outputs": [
    {
     "name": "stdout",
     "output_type": "stream",
     "text": [
      "Sorted favorite movies: ['Avatar', 'Inception', 'Shutter Island', 'The Dark Knight', 'The Matrix']\n"
     ]
    }
   ],
   "source": [
    "# Step 1: Create the list\n",
    "movies = [\"Inception\", \"The Dark Knight\", \"Interstellar\", \"The Matrix\", \"Avatar\"]\n",
    "\n",
    "# Step 2: Replace movie at index 2\n",
    "movies[2] = \"Shutter Island\"\n",
    "\n",
    "# Step 3: Sort alphabetically\n",
    "movies.sort()\n",
    "\n",
    "# Step 4: Print the result\n",
    "print(\"Sorted favorite movies:\", movies)\n"
   ]
  }
 ],
 "metadata": {
  "kernelspec": {
   "display_name": "Python 3",
   "language": "python",
   "name": "python3"
  },
  "language_info": {
   "codemirror_mode": {
    "name": "ipython",
    "version": 3
   },
   "file_extension": ".py",
   "mimetype": "text/x-python",
   "name": "python",
   "nbconvert_exporter": "python",
   "pygments_lexer": "ipython3",
   "version": "3.11.2"
  }
 },
 "nbformat": 4,
 "nbformat_minor": 5
}
